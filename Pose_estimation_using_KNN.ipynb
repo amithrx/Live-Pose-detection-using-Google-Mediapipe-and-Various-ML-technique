{
  "nbformat": 4,
  "nbformat_minor": 0,
  "metadata": {
    "colab": {
      "name": "Pose_estimation_using_KNN.ipynb",
      "provenance": [],
      "collapsed_sections": [],
      "authorship_tag": "ABX9TyNN+EXy0U8MzhznUuBB0KyJ",
      "include_colab_link": true
    },
    "kernelspec": {
      "name": "python3",
      "display_name": "Python 3"
    },
    "language_info": {
      "name": "python"
    }
  },
  "cells": [
    {
      "cell_type": "markdown",
      "metadata": {
        "id": "view-in-github",
        "colab_type": "text"
      },
      "source": [
        "<a href=\"https://colab.research.google.com/github/amithrx/Live-Pose-estimation-using-Google-Mediapipe-Various-ML-algorithms/blob/main/Pose_estimation_using_KNN.ipynb\" target=\"_parent\"><img src=\"https://colab.research.google.com/assets/colab-badge.svg\" alt=\"Open In Colab\"/></a>"
      ]
    },
    {
      "cell_type": "markdown",
      "source": [
        "Pose estimation using KNN"
      ],
      "metadata": {
        "id": "BcSl6jCwMG0y"
      }
    },
    {
      "cell_type": "code",
      "source": [
        "import numpy as np\n",
        "import pandas as pd\n",
        "import matplotlib.pyplot as plt\n",
        "\n",
        "from sklearn.model_selection import train_test_split\n",
        "from sklearn.preprocessing import StandardScaler\n",
        "from sklearn.neighbors import KNeighborsClassifier\n",
        "from sklearn.metrics import confusion_matrix\n",
        "from sklearn.metrics import f1_score\n",
        "from sklearn.metrics import accuracy_score"
      ],
      "metadata": {
        "id": "pbpgECpiMKmc"
      },
      "execution_count": null,
      "outputs": []
    },
    {
      "cell_type": "code",
      "source": [
        "from google.colab import files\n",
        "uploaded = files.upload()"
      ],
      "metadata": {
        "colab": {
          "resources": {
            "http://localhost:8080/nbextensions/google.colab/files.js": {
              "data": "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",
              "ok": true,
              "headers": [
                [
                  "content-type",
                  "application/javascript"
                ]
              ],
              "status": 200,
              "status_text": ""
            }
          },
          "base_uri": "https://localhost:8080/",
          "height": 74
        },
        "id": "w-sHfScwNJY4",
        "outputId": "8b3b910a-6631-49f3-8e46-7e7bfdb2b8a7"
      },
      "execution_count": null,
      "outputs": [
        {
          "output_type": "display_data",
          "data": {
            "text/plain": [
              "<IPython.core.display.HTML object>"
            ],
            "text/html": [
              "\n",
              "     <input type=\"file\" id=\"files-76bc1b48-dc28-4f60-9462-9214dc96a7a1\" name=\"files[]\" multiple disabled\n",
              "        style=\"border:none\" />\n",
              "     <output id=\"result-76bc1b48-dc28-4f60-9462-9214dc96a7a1\">\n",
              "      Upload widget is only available when the cell has been executed in the\n",
              "      current browser session. Please rerun this cell to enable.\n",
              "      </output>\n",
              "      <script src=\"/nbextensions/google.colab/files.js\"></script> "
            ]
          },
          "metadata": {}
        },
        {
          "output_type": "stream",
          "name": "stdout",
          "text": [
            "Saving amit.csv to amit.csv\n"
          ]
        }
      ]
    },
    {
      "cell_type": "code",
      "source": [
        "# necessary import\n",
        "import numpy as np\n",
        "import pandas as pd\n",
        "import matplotlib.pyplot as plt\n",
        "import sklearn\n",
        "from sklearn.preprocessing import StandardScaler, LabelEncoder\n",
        "from sklearn.model_selection import train_test_split\n",
        "from sklearn.discriminant_analysis import LinearDiscriminantAnalysis\n",
        "from sklearn.ensemble import RandomForestClassifier\n",
        "from sklearn.metrics import accuracy_score, confusion_matrix\n",
        "\n",
        "# read dataset from URL\n",
        "\n",
        "dataset = pd.read_csv('amit.csv')\n",
        "\n",
        "# divide the dataset into class and target variable\n",
        "# split dataset\n",
        "X = dataset.iloc[:, 0:117]\n",
        "y = dataset.iloc[:,117]\n",
        "print(X)"
      ],
      "metadata": {
        "colab": {
          "base_uri": "https://localhost:8080/"
        },
        "id": "Uzfnzyd0ZpVL",
        "outputId": "76e8d579-055c-443f-dd89-721ed1f6446c"
      },
      "execution_count": null,
      "outputs": [
        {
          "output_type": "stream",
          "name": "stdout",
          "text": [
            "      nose_x_1  l_shouldr_x_1  r_shoulder_x_1  l_elbow_x_1  r_elbow_x_1  \\\n",
            "0     0.466837       0.536425        0.421737     0.552586     0.400637   \n",
            "1     0.466981       0.534423        0.419801     0.552579     0.398616   \n",
            "2     0.443873       0.510529        0.392760     0.538785     0.373896   \n",
            "3     0.464226       0.529767        0.413536     0.551292     0.381716   \n",
            "4     0.465310       0.522171        0.403041     0.550459     0.370451   \n",
            "...        ...            ...             ...          ...          ...   \n",
            "3807  0.410130       0.470613        0.353162     0.481384     0.346614   \n",
            "3808  0.413311       0.471635        0.354795     0.481460     0.343648   \n",
            "3809  0.425184       0.478965        0.361634     0.487567     0.350380   \n",
            "3810  0.424494       0.479368        0.360942     0.486463     0.352959   \n",
            "3811  0.415483       0.472030        0.358733     0.484145     0.349483   \n",
            "\n",
            "      l_wrist_x_1  r_wrist_x_1  l_hip_x_1  r_hip_x_1  l_knee_x_1  ...  \\\n",
            "0        0.554412     0.395508   0.511358   0.443766    0.519801  ...   \n",
            "1        0.550639     0.395376   0.510005   0.442398    0.518164  ...   \n",
            "2        0.515840     0.406629   0.494534   0.429211    0.511658  ...   \n",
            "3        0.495895     0.386194   0.497235   0.429965    0.494289  ...   \n",
            "4        0.514876     0.409229   0.499619   0.430803    0.508876  ...   \n",
            "...           ...          ...        ...        ...         ...  ...   \n",
            "3807     0.484840     0.346404   0.446524   0.382069    0.442740  ...   \n",
            "3808     0.488361     0.344700   0.447435   0.384895    0.442576  ...   \n",
            "3809     0.493800     0.350504   0.453245   0.391087    0.453848  ...   \n",
            "3810     0.491776     0.352377   0.454284   0.392247    0.451817  ...   \n",
            "3811     0.491687     0.348623   0.453928   0.391182    0.451674  ...   \n",
            "\n",
            "      l_elbow_z_3  r_elbow_z_3  l_wrist_z_3  r_wrist_z_3  l_hip_z_3  \\\n",
            "0       -0.177704    -0.233622    -0.306832    -0.442585  -0.004903   \n",
            "1       -0.268979     0.010997    -0.524009    -0.154199  -0.020188   \n",
            "2       -0.212390    -0.268270    -0.437283    -0.568176  -0.004543   \n",
            "3       -0.305976     0.027489    -0.572904    -0.116835  -0.023171   \n",
            "4       -0.186071    -0.181202    -0.414230    -0.463149  -0.001583   \n",
            "...           ...          ...          ...          ...        ...   \n",
            "3807     0.003412    -0.069937    -0.114806    -0.167546   0.005705   \n",
            "3808    -0.076366    -0.052037    -0.222686    -0.166772  -0.005487   \n",
            "3809    -0.041222    -0.110999    -0.155995    -0.221138   0.005661   \n",
            "3810    -0.045769    -0.106986    -0.160648    -0.204832   0.001381   \n",
            "3811    -0.029432    -0.096780    -0.134754    -0.190012   0.005284   \n",
            "\n",
            "      r_hip_z_3  l_knee_z_3  r_knee_z_3  l_ankle_z_3  r_ankle_z_3  \n",
            "0      0.004764    0.022069    0.015744     0.255176     0.251045  \n",
            "1      0.020178   -0.029584   -0.306580     0.362366    -0.018393  \n",
            "2      0.004421   -0.118992    0.038212     0.202935     0.369387  \n",
            "3      0.023180   -0.023714   -0.247927     0.313099     0.024506  \n",
            "4      0.001451   -0.038740   -0.039731     0.284287     0.241891  \n",
            "...         ...         ...         ...          ...          ...  \n",
            "3807  -0.005720   -0.020813   -0.015095     0.213164     0.204335  \n",
            "3808   0.005478    0.011076    0.045946     0.289274     0.309555  \n",
            "3809  -0.005736    0.010790    0.009689     0.284102     0.279073  \n",
            "3810  -0.001492   -0.000493    0.006232     0.234542     0.235567  \n",
            "3811  -0.005349   -0.001114   -0.007906     0.198988     0.183120  \n",
            "\n",
            "[3812 rows x 117 columns]\n"
          ]
        }
      ]
    },
    {
      "cell_type": "code",
      "source": [
        "dataset = pd.read_csv('amit.csv')\n",
        "print(len(dataset))\n",
        "print(dataset.head())"
      ],
      "metadata": {
        "colab": {
          "base_uri": "https://localhost:8080/"
        },
        "id": "hX-KUWb_OHpb",
        "outputId": "9b2dcdf8-aa12-4e54-bade-3e6cbd3e7fae"
      },
      "execution_count": null,
      "outputs": [
        {
          "output_type": "stream",
          "name": "stdout",
          "text": [
            "3812\n",
            "   nose_x_1  l_shouldr_x_1  r_shoulder_x_1  l_elbow_x_1  r_elbow_x_1  \\\n",
            "0  0.466837       0.536425        0.421737     0.552586     0.400637   \n",
            "1  0.466981       0.534423        0.419801     0.552579     0.398616   \n",
            "2  0.443873       0.510529        0.392760     0.538785     0.373896   \n",
            "3  0.464226       0.529767        0.413536     0.551292     0.381716   \n",
            "4  0.465310       0.522171        0.403041     0.550459     0.370451   \n",
            "\n",
            "   l_wrist_x_1  r_wrist_x_1  l_hip_x_1  r_hip_x_1  l_knee_x_1  ...  \\\n",
            "0     0.554412     0.395508   0.511358   0.443766    0.519801  ...   \n",
            "1     0.550639     0.395376   0.510005   0.442398    0.518164  ...   \n",
            "2     0.515840     0.406629   0.494534   0.429211    0.511658  ...   \n",
            "3     0.495895     0.386194   0.497235   0.429965    0.494289  ...   \n",
            "4     0.514876     0.409229   0.499619   0.430803    0.508876  ...   \n",
            "\n",
            "   r_elbow_z_3  l_wrist_z_3  r_wrist_z_3  l_hip_z_3  r_hip_z_3  l_knee_z_3  \\\n",
            "0    -0.233622    -0.306832    -0.442585  -0.004903   0.004764    0.022069   \n",
            "1     0.010997    -0.524009    -0.154199  -0.020188   0.020178   -0.029584   \n",
            "2    -0.268270    -0.437283    -0.568176  -0.004543   0.004421   -0.118992   \n",
            "3     0.027489    -0.572904    -0.116835  -0.023171   0.023180   -0.023714   \n",
            "4    -0.181202    -0.414230    -0.463149  -0.001583   0.001451   -0.038740   \n",
            "\n",
            "   r_knee_z_3  l_ankle_z_3  r_ankle_z_3  output  \n",
            "0    0.015744     0.255176     0.251045       2  \n",
            "1   -0.306580     0.362366    -0.018393       2  \n",
            "2    0.038212     0.202935     0.369387       2  \n",
            "3   -0.247927     0.313099     0.024506       2  \n",
            "4   -0.039731     0.284287     0.241891       2  \n",
            "\n",
            "[5 rows x 118 columns]\n"
          ]
        }
      ]
    },
    {
      "cell_type": "markdown",
      "source": [
        "Before proceeding further, we need to split the dataset into train and test."
      ],
      "metadata": {
        "id": "2NQ8fl6Rl9b4"
      }
    },
    {
      "cell_type": "code",
      "source": [
        "# split dataset\n",
        "X = dataset.iloc[:, 0:117]\n",
        "y = dataset.iloc[:, 117]\n",
        "X_train, X_test, y_train, y_test = train_test_split(X, y, random_state=42, test_size=0.33) \n",
        "#test_size = 0.2 means, we are keeping 20% of data aside so that we can use it later for testings"
      ],
      "metadata": {
        "id": "8djeOOP0mEea"
      },
      "execution_count": null,
      "outputs": []
    },
    {
      "cell_type": "code",
      "source": [
        "print(len(X_train))\n",
        "print(len(y_train))\n",
        "print(len(X_test))\n",
        "print(len(y_test))\n",
        "import math\n",
        "math.sqrt(len(y_test))"
      ],
      "metadata": {
        "colab": {
          "base_uri": "https://localhost:8080/"
        },
        "id": "6AikWY2boRWm",
        "outputId": "ca71c088-9e30-4623-d429-7cdd78a0fece"
      },
      "execution_count": null,
      "outputs": [
        {
          "output_type": "stream",
          "name": "stdout",
          "text": [
            "2554\n",
            "2554\n",
            "1258\n",
            "1258\n"
          ]
        },
        {
          "output_type": "execute_result",
          "data": {
            "text/plain": [
              "35.4682957019364"
            ]
          },
          "metadata": {},
          "execution_count": 46
        }
      ]
    },
    {
      "cell_type": "code",
      "source": [
        "cnt=0\n",
        "for i in y_test:\n",
        "  if i==3:\n",
        "    ++cnt\n",
        "cnt\n"
      ],
      "metadata": {
        "colab": {
          "base_uri": "https://localhost:8080/"
        },
        "id": "3o3jp47SADJ7",
        "outputId": "d3d4e053-81d2-4bd4-908f-715f3fbecfba"
      },
      "execution_count": null,
      "outputs": [
        {
          "output_type": "execute_result",
          "data": {
            "text/plain": [
              "0"
            ]
          },
          "metadata": {},
          "execution_count": 6
        }
      ]
    },
    {
      "cell_type": "code",
      "source": [
        "type(y_test)\n",
        "y_test = y_test.to_numpy()\n",
        "type(y_test)"
      ],
      "metadata": {
        "colab": {
          "base_uri": "https://localhost:8080/"
        },
        "id": "noaBVrheAgHe",
        "outputId": "a4bcd9de-c751-44eb-bd61-bf109cfdfa40"
      },
      "execution_count": null,
      "outputs": [
        {
          "output_type": "execute_result",
          "data": {
            "text/plain": [
              "numpy.ndarray"
            ]
          },
          "metadata": {},
          "execution_count": 47
        }
      ]
    },
    {
      "cell_type": "code",
      "source": [
        "y_train"
      ],
      "metadata": {
        "colab": {
          "base_uri": "https://localhost:8080/"
        },
        "id": "rEYDqJ6NtjrH",
        "outputId": "fa0bdc2d-4674-4934-f1da-4d0fb8114616"
      },
      "execution_count": null,
      "outputs": [
        {
          "output_type": "execute_result",
          "data": {
            "text/plain": [
              "3412    1\n",
              "1261    0\n",
              "1620    4\n",
              "3567    1\n",
              "2548    3\n",
              "       ..\n",
              "1130    0\n",
              "1294    0\n",
              "860     0\n",
              "3507    1\n",
              "3174    1\n",
              "Name: output, Length: 2554, dtype: int64"
            ]
          },
          "metadata": {},
          "execution_count": 10
        }
      ]
    },
    {
      "cell_type": "code",
      "source": [
        "# Feature scaling\n",
        "sc_X = StandardScaler()\n",
        "X_train = sc_X.fit_transform(X_train)\n",
        "X_test = sc_X.transform(X_test)\n",
        "X_test"
      ],
      "metadata": {
        "id": "-VdYRxDenFFi",
        "colab": {
          "base_uri": "https://localhost:8080/"
        },
        "outputId": "1dd6e429-5740-42c4-93da-932ba35cb5f2"
      },
      "execution_count": null,
      "outputs": [
        {
          "output_type": "execute_result",
          "data": {
            "text/plain": [
              "array([[-2.72862036, -2.9471408 , -2.05923767, ...,  0.53223861,\n",
              "        -0.09196647,  0.44974526],\n",
              "       [ 0.66983359,  1.04690309,  1.09592889, ...,  1.55571405,\n",
              "        -1.82712178,  1.1543358 ],\n",
              "       [-0.35235126, -0.50087477, -0.58583618, ...,  0.5562116 ,\n",
              "        -0.17073955,  0.25694661],\n",
              "       ...,\n",
              "       [ 0.35355706,  0.71409125,  0.29694351, ...,  0.34963632,\n",
              "         1.39976283,  1.40844057],\n",
              "       [ 0.25983856,  0.85839315,  0.25762069, ...,  0.17195694,\n",
              "         0.11948706,  2.63646379],\n",
              "       [-2.20968527, -2.17075305, -2.00792731, ...,  0.43255343,\n",
              "        -0.16407042, -0.10946926]])"
            ]
          },
          "metadata": {},
          "execution_count": 48
        }
      ]
    },
    {
      "cell_type": "markdown",
      "source": [
        "Methods to select value of k based on the erro_rate vs k graph and accuracy_rate vs k graph"
      ],
      "metadata": {
        "id": "luYbAaliKa57"
      }
    },
    {
      "cell_type": "code",
      "source": [
        "error_rate = []\n",
        "for i in range(1,55):\n",
        " knn = KNeighborsClassifier(n_neighbors=i,weights='distance')\n",
        " knn.fit(X_train,y_train)\n",
        " pred_i = knn.predict(X_test)\n",
        " error_rate.append(np.mean(pred_i != y_test))\n",
        "\n",
        "plt.figure(figsize=(10,6))\n",
        "plt.plot(range(1,55),error_rate,color='blue', linestyle='dashed', \n",
        "         marker='o',markerfacecolor='red', markersize=10)\n",
        "plt.title('Error Rate vs. K Value')\n",
        "plt.xlabel('K')\n",
        "plt.ylabel('Error Rate')\n",
        "print(\"Minimum error:-\",min(error_rate),\"at K =\",error_rate.index(min(error_rate)))"
      ],
      "metadata": {
        "colab": {
          "base_uri": "https://localhost:8080/",
          "height": 421
        },
        "id": "5QWnrs2R-vtP",
        "outputId": "6d48436d-1e69-420a-accf-4f1c5663a479"
      },
      "execution_count": null,
      "outputs": [
        {
          "output_type": "stream",
          "name": "stdout",
          "text": [
            "Minimum error:- 0.05111402359108781 at K = 17\n"
          ]
        },
        {
          "output_type": "display_data",
          "data": {
            "text/plain": [
              "<Figure size 720x432 with 1 Axes>"
            ],
            "image/png": "[encoded data removed]"
          },
          "metadata": {
            "needs_background": "light"
          }
        }
      ]
    },
    {
      "cell_type": "code",
      "source": [
        "acc = []\n",
        "# Will take some time\n",
        "from sklearn import metrics\n",
        "for i in range(1,25):\n",
        "    neigh = KNeighborsClassifier(n_neighbors = i,weights='distance').fit(X_train,y_train)\n",
        "    yhat = neigh.predict(X_test)\n",
        "    acc.append(metrics.accuracy_score(y_test, yhat))\n",
        "    \n",
        "plt.figure(figsize=(10,6))\n",
        "plt.plot(range(1,25),acc,color = 'blue',linestyle='dashed', \n",
        "         marker='o',markerfacecolor='red', markersize=10)\n",
        "plt.title('accuracy vs. K Value')\n",
        "plt.xlabel('K')\n",
        "plt.ylabel('Accuracy')\n",
        "print(\"Maximum accuracy:-\",max(acc),\"at K =\",acc.index(max(acc)))"
      ],
      "metadata": {
        "colab": {
          "base_uri": "https://localhost:8080/",
          "height": 421
        },
        "id": "xIFoZHRmAPwm",
        "outputId": "30e85f0a-961d-445f-a7f9-527b9e2030d1"
      },
      "execution_count": null,
      "outputs": [
        {
          "output_type": "stream",
          "name": "stdout",
          "text": [
            "Maximum accuracy:- 0.9488859764089121 at K = 17\n"
          ]
        },
        {
          "output_type": "display_data",
          "data": {
            "text/plain": [
              "<Figure size 720x432 with 1 Axes>"
            ],
            "image/png": "[encoded data removed]"
          },
          "metadata": {
            "needs_background": "light"
          }
        }
      ]
    },
    {
      "cell_type": "code",
      "source": [
        "# Define the model: Init K-NN\n",
        "classifier = KNeighborsClassifier(n_neighbors=19, p=2,metric='euclidean')"
      ],
      "metadata": {
        "id": "1QWIEyiRpSYM"
      },
      "execution_count": null,
      "outputs": []
    },
    {
      "cell_type": "code",
      "source": [
        "# Fit Model (Train the models)\n",
        "classifier.fit(X_train, y_train)"
      ],
      "metadata": {
        "colab": {
          "base_uri": "https://localhost:8080/"
        },
        "id": "fyAtBbYEpmem",
        "outputId": "a128d419-1ce8-4bbd-8d0b-086a26e44705"
      },
      "execution_count": null,
      "outputs": [
        {
          "output_type": "execute_result",
          "data": {
            "text/plain": [
              "KNeighborsClassifier(metric='euclidean', n_neighbors=19)"
            ]
          },
          "metadata": {},
          "execution_count": 50
        }
      ]
    },
    {
      "cell_type": "code",
      "source": [
        "# Predict the test set results\n",
        "\n",
        "y_pred = classifier.predict(X_test)\n",
        "y_pred"
      ],
      "metadata": {
        "colab": {
          "base_uri": "https://localhost:8080/"
        },
        "id": "F5KCjU_xprHn",
        "outputId": "34198a10-9907-4e8a-9a58-3c44f0d6bf21"
      },
      "execution_count": null,
      "outputs": [
        {
          "output_type": "execute_result",
          "data": {
            "text/plain": [
              "array([3, 3, 0, ..., 2, 2, 3])"
            ]
          },
          "metadata": {},
          "execution_count": 51
        }
      ]
    },
    {
      "cell_type": "code",
      "source": [
        "# X_test\n",
        "y_test"
      ],
      "metadata": {
        "colab": {
          "base_uri": "https://localhost:8080/"
        },
        "id": "n0tiDZDO5P5n",
        "outputId": "4a3d8046-e206-476d-8fc2-925c15ac09fa"
      },
      "execution_count": null,
      "outputs": [
        {
          "output_type": "execute_result",
          "data": {
            "text/plain": [
              "array([3, 3, 0, ..., 2, 2, 3])"
            ]
          },
          "metadata": {},
          "execution_count": 52
        }
      ]
    },
    {
      "cell_type": "code",
      "source": [
        "cnt=0\n",
        "print(len(y_test))\n",
        "for i in range(len(y_test)):\n",
        "  if y_test[i]==classifier.predict(X_test)[i]:\n",
        "    cnt+=1\n",
        "print(cnt)\n"
      ],
      "metadata": {
        "colab": {
          "base_uri": "https://localhost:8080/"
        },
        "id": "nKn1HyK_RWRR",
        "outputId": "4c3bfce5-9e12-4edf-e8bc-2e2d2ab2c06e"
      },
      "execution_count": null,
      "outputs": [
        {
          "output_type": "stream",
          "name": "stdout",
          "text": [
            "1258\n",
            "1251\n"
          ]
        }
      ]
    },
    {
      "cell_type": "code",
      "source": [
        "# Evaluate Model\n",
        "cm = confusion_matrix(y_test, y_pred, normalize='all')\n",
        "print (cm)\n",
        "# Visualize it as a heatmap\n",
        "import seaborn\n",
        "seaborn.heatmap(cm)\n",
        "plt.title('Normalized confusion matrix')\n",
        "plt.ylabel('Actual')\n",
        "plt.xlabel('Predicted')\n",
        "plt.show(block=False)\n",
        "print(f1_score(y_test, y_pred,average='micro'))"
      ],
      "metadata": {
        "colab": {
          "base_uri": "https://localhost:8080/",
          "height": 416
        },
        "id": "yY4eMgqNpz4n",
        "outputId": "526ef3c1-119f-4804-e3bb-3de9d6bfc27c"
      },
      "execution_count": null,
      "outputs": [
        {
          "output_type": "stream",
          "name": "stdout",
          "text": [
            "[[0.19713831 0.         0.         0.         0.         0.        ]\n",
            " [0.00158983 0.20508744 0.         0.         0.         0.        ]\n",
            " [0.         0.00079491 0.1645469  0.         0.         0.        ]\n",
            " [0.         0.         0.         0.13593005 0.         0.        ]\n",
            " [0.         0.         0.         0.         0.24403816 0.        ]\n",
            " [0.00317965 0.         0.         0.         0.         0.04769475]]\n"
          ]
        },
        {
          "output_type": "display_data",
          "data": {
            "text/plain": [
              "<Figure size 432x288 with 2 Axes>"
            ],
            "image/png": "[encoded data removed]"
          },
          "metadata": {
            "needs_background": "light"
          }
        },
        {
          "output_type": "stream",
          "name": "stdout",
          "text": [
            "0.994435612082671\n"
          ]
        }
      ]
    },
    {
      "cell_type": "code",
      "source": [
        "from sklearn.metrics import confusion_matrix\n",
        "\n",
        "conf_mat = confusion_matrix(labels, predictions)\n",
        "print(conf_mat)"
      ],
      "metadata": {
        "id": "Nqr1yXOgTF2L"
      },
      "execution_count": null,
      "outputs": []
    },
    {
      "cell_type": "code",
      "source": [
        "print(accuracy_score(y_test, y_pred))"
      ],
      "metadata": {
        "colab": {
          "base_uri": "https://localhost:8080/"
        },
        "id": "ut12lEiyqJ8O",
        "outputId": "949da55a-71db-4523-b1af-61ecb413f46d"
      },
      "execution_count": null,
      "outputs": [
        {
          "output_type": "stream",
          "name": "stdout",
          "text": [
            "0.9515072083879423\n"
          ]
        }
      ]
    },
    {
      "cell_type": "code",
      "source": [
        "y_train_pred = classifier.predict(X_train)"
      ],
      "metadata": {
        "id": "_AD9W5MLkzNi"
      },
      "execution_count": null,
      "outputs": []
    },
    {
      "cell_type": "code",
      "source": [
        "print(accuracy_score(y_train, y_train_pred))"
      ],
      "metadata": {
        "colab": {
          "base_uri": "https://localhost:8080/"
        },
        "id": "j0s6M_R7kcmL",
        "outputId": "3f775451-af5e-42b5-aab0-11e04cc498d6"
      },
      "execution_count": null,
      "outputs": [
        {
          "output_type": "stream",
          "name": "stdout",
          "text": [
            "0.964250573958675\n"
          ]
        }
      ]
    }
  ]
}